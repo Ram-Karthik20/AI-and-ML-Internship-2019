{
 "cells": [
  {
   "cell_type": "markdown",
   "metadata": {},
   "source": [
    "# AI and ML Internship\n",
    "### B.Ram Karthik\n",
    "### Day No-2\n",
    "\n",
    "### Date- 26-5-2019\n",
    "### Day Objectives\n",
    "* Completed the 26th May 2019 probem set"
   ]
  },
  {
   "cell_type": "markdown",
   "metadata": {},
   "source": [
    "## Problem 1:\n",
    "#### Problem Statement:Compute the total number of unique apps from the dataset"
   ]
  },
  {
   "cell_type": "code",
   "execution_count": 9,
   "metadata": {},
   "outputs": [
    {
     "data": {
      "text/plain": [
       "7197"
      ]
     },
     "execution_count": 9,
     "metadata": {},
     "output_type": "execute_result"
    }
   ],
   "source": [
    "import pandas as pd\n",
    "import numpy as np\n",
    "unique_apps=[ ]\n",
    "df=pd.read_csv('DataFiles/AppleStore.csv')\n",
    "#df \n",
    "unique_array=[ ]\n",
    "for i in range(0,len(df.values)):\n",
    "    unique_array.append(df.values[i][1])\n",
    "np.unique(unique_array)\n",
    "len(np.unique(unique_array))"
   ]
  },
  {
   "cell_type": "markdown",
   "metadata": {},
   "source": [
    "## Problem 2:\n",
    "#### Problem Statement:Print the Top 10 apps along with their rating based on the number of downloads(rating_count_tot)"
   ]
  },
  {
   "cell_type": "code",
   "execution_count": 8,
   "metadata": {},
   "outputs": [
    {
     "name": "stdout",
     "output_type": "stream",
     "text": [
      "Facebook    3.5\n",
      "Instagram    4.5\n",
      "Clash of Clans    4.5\n",
      "Temple Run    4.5\n",
      "Pandora - Music & Radio    4.0\n",
      "Pinterest    4.5\n",
      "Bible    4.5\n",
      "Candy Crush Saga    4.5\n",
      "Spotify Music    4.5\n",
      "Angry Birds    4.5\n"
     ]
    }
   ],
   "source": [
    "\n",
    "import pandas as pd\n",
    "\n",
    "df = pd.read_csv('DataFiles/AppleStore.csv')\n",
    "li =[]\n",
    "a = []\n",
    "f = []\n",
    "for i in range (0,len(df)):\n",
    "    li.append(df.loc[i][6])\n",
    "    \n",
    "li.sort(reverse = True)\n",
    "a = li\n",
    "df.to_csv('DataFiles/Top.csv')\n",
    "for k in range (0,10):\n",
    "    for i in range (0,len(df)):\n",
    "        if a[k] == df.loc[i][6]:\n",
    "            print(df.loc[i][2], '  ',df.loc[i][8])"
   ]
  },
  {
   "cell_type": "markdown",
   "metadata": {},
   "source": [
    "## Problem 3:\n",
    "#### Problem Statement:Categorise the dataset based on content rating into the following\n",
    "#### Test Cases:\n",
    "* Number of apps with content rating 4+\n",
    "* Number of apps with content rating 9+\n",
    "* Number of apps with content rating 12+\n",
    "* Number of apps with content rating 17+\n"
   ]
  },
  {
   "cell_type": "code",
   "execution_count": 10,
   "metadata": {},
   "outputs": [
    {
     "name": "stdout",
     "output_type": "stream",
     "text": [
      "Number of apps with content rating 4+ : 4433\n",
      "Number of apps with content rating 9+ : 987\n",
      "Number of apps with content rating 12+ : 1155\n",
      "Number of apps with content rating 17+ : 622\n"
     ]
    }
   ],
   "source": [
    "four=0         \n",
    "nine=0         \n",
    "twelve=0        \n",
    "seventeen=0     \n",
    "for i in range(0,len(df.values)):\n",
    "    if(df.loc[i][11]=='4+'):\n",
    "        four=four+1\n",
    "    if(df.loc[i][11]=='9+'):\n",
    "        nine=nine+1\n",
    "    if(df.loc[i][11]=='12+'):\n",
    "        twelve=twelve+1\n",
    "    if(df.loc[i][11]=='17+'):\n",
    "        seventeen=seventeen+1\n",
    "print(\"Number of apps with content rating 4+ :\",four)\n",
    "print(\"Number of apps with content rating 9+ :\",nine)\n",
    "print(\"Number of apps with content rating 12+ :\",twelve)\n",
    "print(\"Number of apps with content rating 17+ :\",seventeen)"
   ]
  },
  {
   "cell_type": "code",
   "execution_count": null,
   "metadata": {},
   "outputs": [],
   "source": []
  }
 ],
 "metadata": {
  "kernelspec": {
   "display_name": "Python 3",
   "language": "python",
   "name": "python3"
  },
  "language_info": {
   "codemirror_mode": {
    "name": "ipython",
    "version": 3
   },
   "file_extension": ".py",
   "mimetype": "text/x-python",
   "name": "python",
   "nbconvert_exporter": "python",
   "pygments_lexer": "ipython3",
   "version": "3.7.3"
  }
 },
 "nbformat": 4,
 "nbformat_minor": 2
}
