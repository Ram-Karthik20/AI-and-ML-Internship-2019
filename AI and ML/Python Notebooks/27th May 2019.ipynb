{
 "cells": [
  {
   "cell_type": "markdown",
   "metadata": {},
   "source": [
    "# AI and ML Internship\n",
    "\n",
    "### Day No- 3\n",
    "\n",
    "## Date- 27-5-2019"
   ]
  },
  {
   "cell_type": "markdown",
   "metadata": {},
   "source": [
    "### Day Objectives\n",
    "* Completed the 27th May 2019 tasks"
   ]
  },
  {
   "cell_type": "markdown",
   "metadata": {},
   "source": [
    "### Problem 1:\n",
    "#### Problem Statement:\n",
    "Construct a Dictionary with keys as Genre names and values as frequency percentage  for each genre.\n",
    "* Genre\n",
    "* App Count %\n",
    "* Games ...\n",
    "* Productivity ...\n",
    "* Social Networking ...\n",
    "* Health Care ...\n",
    "* etc"
   ]
  },
  {
   "cell_type": "code",
   "execution_count": 2,
   "metadata": {},
   "outputs": [
    {
     "data": {
      "text/plain": [
       "{'Games': 53.66124774211477,\n",
       " 'Productivity': 2.473252744198972,\n",
       " 'Weather': 1.0004168403501459,\n",
       " 'Shopping': 1.6951507572599693,\n",
       " 'Reference': 0.8892594136445742,\n",
       " 'Finance': 1.445046547172433,\n",
       " 'Music': 1.9174656106711132,\n",
       " 'Utilities': 3.4458802278727245,\n",
       " 'Travel': 1.1254689453939142,\n",
       " 'Social Networking': 2.3204112824788106,\n",
       " 'Sports': 1.5839933305543976,\n",
       " 'Business': 0.7919966652771988,\n",
       " 'Health & Fitness': 2.501042100875365,\n",
       " 'Entertainment': 7.433652910935113,\n",
       " 'Photo & Video': 4.849242740030569,\n",
       " 'Navigation': 0.6391552035570377,\n",
       " 'Education': 6.294289287203002,\n",
       " 'Lifestyle': 2.0008336807002918,\n",
       " 'Food & Drink': 0.8753647353063776,\n",
       " 'News': 1.0421008753647354,\n",
       " 'Book': 1.5562039738780047,\n",
       " 'Medical': 0.31957760177851885,\n",
       " 'Catalogs': 0.1389467833819647}"
      ]
     },
     "execution_count": 2,
     "metadata": {},
     "output_type": "execute_result"
    }
   ],
   "source": [
    "import pandas as pd\n",
    "df=pd.read_csv('DataFiles/AppleStore.csv',usecols=['prime_genre'])\n",
    "d={}\n",
    "unique=[]\n",
    "for x in df.values:\n",
    "    if x not in unique:\n",
    "        unique.append(x)\n",
    "for x in unique:\n",
    "    count=0\n",
    "    for i in range(len(df)):\n",
    "        if df.values[i]==x:\n",
    "            count=count+1\n",
    "    d[x[0]]=(count/len(df))*100\n",
    "d"
   ]
  },
  {
   "cell_type": "markdown",
   "metadata": {},
   "source": [
    "### Problem 2:\n",
    "#### Problem Statement:\n",
    "Construct a dictionary with keys as rating and values as frequency percentage for each rating"
   ]
  },
  {
   "cell_type": "code",
   "execution_count": 19,
   "metadata": {},
   "outputs": [
    {
     "data": {
      "text/plain": [
       "{4.0: 22.59274697790746,\n",
       " 3.5: 9.754064193413923,\n",
       " 4.5: 37.001528414617205,\n",
       " 5.0: 6.836181742392664,\n",
       " 3.0: 5.321661803529248,\n",
       " 2.0: 1.472835903848826,\n",
       " 2.5: 2.7233569542865084,\n",
       " 0.0: 12.908156176184521,\n",
       " 1.5: 0.7781019869390023,\n",
       " 1.0: 0.6113658468806447}"
      ]
     },
     "execution_count": 19,
     "metadata": {},
     "output_type": "execute_result"
    }
   ],
   "source": [
    "df=pd.read_csv('DataFiles/AppleStore.csv',usecols=['user_rating'])\n",
    "d={}\n",
    "unique=df.drop_duplicates()\n",
    "for x in unique.values:\n",
    "    count=0\n",
    "    for i in range(len(user_rating)):\n",
    "        if df.values[i]==x:\n",
    "            count=count+1\n",
    "    d[x[0]]=(count/(len(df)))*100\n",
    "d"
   ]
  }
 ],
 "metadata": {
  "kernelspec": {
   "display_name": "Python 3",
   "language": "python",
   "name": "python3"
  },
  "language_info": {
   "codemirror_mode": {
    "name": "ipython",
    "version": 3
   },
   "file_extension": ".py",
   "mimetype": "text/x-python",
   "name": "python",
   "nbconvert_exporter": "python",
   "pygments_lexer": "ipython3",
   "version": "3.7.3"
  }
 },
 "nbformat": 4,
 "nbformat_minor": 2
}
